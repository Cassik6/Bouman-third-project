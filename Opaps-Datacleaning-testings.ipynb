{
 "metadata": {
  "language_info": {
   "codemirror_mode": {
    "name": "ipython",
    "version": 3
   },
   "file_extension": ".py",
   "mimetype": "text/x-python",
   "name": "python",
   "nbconvert_exporter": "python",
   "pygments_lexer": "ipython3",
   "version": "3.8.3-final"
  },
  "orig_nbformat": 2,
  "kernelspec": {
   "name": "Python 3.8.3 64-bit ('base': conda)",
   "display_name": "Python 3.8.3 64-bit ('base': conda)",
   "metadata": {
    "interpreter": {
     "hash": "78e8a6d3b7290a011ff787e7b2160da94d41214bbd0f1847b1953745e215e335"
    }
   }
  }
 },
 "nbformat": 4,
 "nbformat_minor": 2,
 "cells": [
  {
   "cell_type": "code",
   "execution_count": 16,
   "metadata": {},
   "outputs": [],
   "source": [
    "## found a way to remove white spances in columnsqq\n",
    "\n",
    "import pandas as pd \n",
    "import numpy as np\n",
    "import re\n",
    "\n",
    "# defining null values so we can replace them easely with fillna() method\n",
    "missing_values = ['', 'None','Notspecified']\n",
    "\n",
    "df = pd.read_csv(\"all_sales_data.csv\", na_values= missing_values)\n",
    "\n",
    "# removing the spaces at the end and begining of the column name\n",
    "for i in df.columns:\n",
    "    df.rename(columns={i: i.strip()}, inplace=True)\n",
    "\n",
    "# removes dataset from group 2\n",
    "df = df.drop(df[df.source == 2].index)\n",
    "\n",
    "# removing dolar signs, commas and euro signs in the price column\n",
    "# df['price'] = df['price'].replace({'$': '', ',': '',\"€\":\"\"}, regex=True)\n",
    "\n",
    "\n",
    "\n",
    "\n"
   ]
  },
  {
   "cell_type": "code",
   "execution_count": 86,
   "metadata": {},
   "outputs": [
    {
     "output_type": "execute_result",
     "data": {
      "text/plain": [
       "5270"
      ]
     },
     "metadata": {},
     "execution_count": 86
    }
   ],
   "source": [
    "df.area.isnull().sum()"
   ]
  },
  {
   "cell_type": "code",
   "execution_count": 17,
   "metadata": {},
   "outputs": [
    {
     "output_type": "stream",
     "name": "stdout",
     "text": [
      "0\n"
     ]
    },
    {
     "output_type": "execute_result",
     "data": {
      "text/plain": [
       "array([ 242,  349,    3,  235,    2,   -1,    1,  156,  255,  137,    5,\n",
       "        118,    7,  232,  257,  265,  568,  927,   49,  585,  315,  259,\n",
       "        277,  325,  226,  245,  275,  175,  114,  352,  412,  519,  211,\n",
       "        268,  367,  123,    8,  125,  237,  177,   85,  361,  144,  128,\n",
       "          4,  648,  983,  184, 1262,  425,  423,   20,  195,  135,  187,\n",
       "        521,   93,  127,    9,  134,  224,  288,  446,  166,  178,  233,\n",
       "        358,  193,  115,  272,  387,   63,  189,   18,  172,  431,  171,\n",
       "        276,   23,  263,  159,  362,  331,  314,  133,  258,  332,  444,\n",
       "        136,   99,  165,  485,  112,  289,  221,  312,  264,  337,  231,\n",
       "        185,  354,  348,  222,    6,  498,   68,  313,  273,  427,  865,\n",
       "        461,  162,   62,  196,  153,  246,  262,  252,  248,   82,  169,\n",
       "        168,  145,  646,  627,  228,  236,  365,  143,  164,  562,  375,\n",
       "        518,  415,  234,  131,  317,  188,  274,  141,  345,  456,  281,\n",
       "        637,  295,  433,  436,  858,  285,  191,  479,  385,  282,  647,\n",
       "        464,  322,   12,  278,   15,   17,  254,  478,  616,   95,  492,\n",
       "        297,  716,  227,  157,  266,  261,  142,  351,  376,  491,  468,\n",
       "        625, 1148,   97,  391,  253,  471,  176,   75,  535,  179,  251,\n",
       "         10,  526,  384,  475,  256,  225, 1254,   80,  182,   76,  453,\n",
       "        371,   42,  215, 1326,  395,  217,  985,   51,   61,  783,  126,\n",
       "         69,  138,  545,  218,  978,   19,  432,  473,  445,  451, 1612,\n",
       "        214,  121,   43,  154,  173,  355,   92,   71,   50,  241,  641,\n",
       "         79,  785,  452,  347,  124,  152,   67,  198,  595,  267,  212,\n",
       "        429,  373,  462,  483,  287,  238,  455,   25, 1339,  216,  344,\n",
       "        318,  341,  466,  155,  163,  271,  447,  249,   64,  691,  284,\n",
       "        223,  151,  239,  775,  186,  333, 1796,  292,  516,  493,  368,\n",
       "        422,  525,  654,  199,  279,  396,  496,   58, 1333,   84,  623,\n",
       "        194,  113,  326,  244,  876,  356,  296,  294,  418,  386,  197,\n",
       "        161,  565,  364,  975,  511,  298,  323, 1193,  428,  286,  575,\n",
       "        419,  335,  435,  797,  383, 2192,  167,  489,  537,   94,  414,\n",
       "        835,   30,  465,   48,  148,  247,  388,  555,  611,  243,  327,\n",
       "         78, 1126,  158,  122,  635,  183,  488,  457,  754, 1454,  532,\n",
       "        117,  542,  522,  459,  392,   72,  147,  324,  291,  149,  665,\n",
       "        293,  321,  624,   45,  132,  571,  116,  576,  139,   96,  574,\n",
       "        619,  487,  472,  678,  712,  622,  129,  346,  398,   65,  789,\n",
       "        334,   11,  612,  614,  366, 1255,  558,  213,  598,  146,  774,\n",
       "        421,  319,  524,   35,  677, 1651,  379,  543,  192,  343, 1121,\n",
       "         59,  512,  174,   14,   13,  374,  546,  889, 2271,  181,  745,\n",
       "        316,  342, 1525,  357,   38,  434,  683,  381,   16,  752,  666,\n",
       "        438,  449,  394,   86,  336,  389,  424,  751,  382,  411,  229,\n",
       "        219,  732,   98,   89,  329,  269,  528,  578,  338,  547,  572,\n",
       "        311,  588,  119,  494,  626,  377,   91,   88,  442,  581,  477,\n",
       "        437,  328,  557,  454,  656,  378,   77,  495,  638,  652,  618,\n",
       "        339,  469,  426,  718,  551,   87,  448,  597,  413,  283,   81,\n",
       "         21,   37,  582,  554,  397,  933,  359,  838,  417,  761,   32,\n",
       "        299,  743,  517,  964,  111,  584,  722,  372,  467, 1168,  667,\n",
       "        393,   57,   44,  486, 1141,  642,  828,  685,  844,  484, 8521,\n",
       "        416,  674,  632,  917,  945,  573,  533,   66,   83,  458,  586,\n",
       "        645,  615, 1124,  566,  514,  527,  591,  592,  538,  499,   55,\n",
       "         73,   56,   39,   74,   26,   28,   46,   54,   52,   34,   36,\n",
       "         24,   29,   53,   47,   41,   33,   27,   22,   31,  686,  684,\n",
       "        567,  675,  962,  878,  548,  369,  787,  893,  439,  726,  728,\n",
       "        771,  544,  515,  563,  747,  825,  829,  657,  658,  742,  655,\n",
       "        577, 1435,  613,  497,  441,  399], dtype=int64)"
      ]
     },
     "metadata": {},
     "execution_count": 17
    }
   ],
   "source": [
    "# area :\n",
    "# making sure we have only numeric values\n",
    "# null values are replaced by -1\n",
    "# making sure there are no numbers after commas\n",
    "\n",
    "\n",
    "# removing m² and white spaces\n",
    "df['area'] = df['area'].replace({'m': '', ' ': '',\"²\":\"\"}, regex=True)\n",
    "# changing all row with Notspecified to NaN\n",
    "df.loc[df.area == \"Notspecified\"] = np.nan\n",
    "# remove numbers after the comma\n",
    "df['area'] = df['area'].str.replace('.0','')\n",
    "# deal with empty strings\n",
    "df.loc[df['area'] == '', 'area'] = '-1'\n",
    "# replace all null values with -1\n",
    "df.area.fillna('-1', inplace=True)\n",
    "# deal with 0 as an int\n",
    "df.loc[df['area'] == 0, 'area'] = '-1'\n",
    "# deal with 0 as a string\n",
    "df.loc[df['area'] == '0', 'area'] = '-1'\n",
    "# tranform everyting in numeric value\n",
    "df[\"area\"] = pd.to_numeric(df[\"area\"])\n",
    "print(df.area.isnull().sum())\n",
    "df.area.unique()\n",
    "\n",
    "\n",
    "\n",
    "\n"
   ]
  },
  {
   "cell_type": "code",
   "execution_count": null,
   "metadata": {},
   "outputs": [],
   "source": [
    "#price\n",
    "# must be higher than 10 000 \n",
    "\n",
    "df[df.price.str.contains]"
   ]
  },
  {
   "cell_type": "code",
   "execution_count": null,
   "metadata": {},
   "outputs": [],
   "source": []
  }
 ]
}