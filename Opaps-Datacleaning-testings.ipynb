{
 "metadata": {
  "language_info": {
   "codemirror_mode": {
    "name": "ipython",
    "version": 3
   },
   "file_extension": ".py",
   "mimetype": "text/x-python",
   "name": "python",
   "nbconvert_exporter": "python",
   "pygments_lexer": "ipython3",
   "version": "3.8.3-final"
  },
  "orig_nbformat": 2,
  "kernelspec": {
   "name": "Python 3.8.3 64-bit ('base': conda)",
   "display_name": "Python 3.8.3 64-bit ('base': conda)",
   "metadata": {
    "interpreter": {
     "hash": "78e8a6d3b7290a011ff787e7b2160da94d41214bbd0f1847b1953745e215e335"
    }
   }
  }
 },
 "nbformat": 4,
 "nbformat_minor": 2,
 "cells": [
  {
   "cell_type": "code",
   "execution_count": 59,
   "metadata": {},
   "outputs": [],
   "source": [
    "## found a way to remove white spances in columnsqq\n",
    "\n",
    "import pandas as pd \n",
    "import numpy as np\n",
    "import re\n",
    "\n",
    "# defining null values so we can replace them easely with fillna() method\n",
    "missing_values = ['','nan', 'None','Notspecified']\n",
    "\n",
    "df = pd.read_csv(\"unique_ids.csv\", na_values= missing_values)\n",
    "\n",
    "# removing the spaces at the end and begining of the column name\n",
    "for i in df.columns:\n",
    "    df.rename(columns={i: i.strip()}, inplace=True)\n",
    "\n",
    "# removes dataset from group 2\n",
    "df = df.drop(df[df.source == 2].index)\n",
    "\n",
    "# removing dolar signs, commas and euro signs in the price column\n",
    "# df['price'] = df['price'].replace({'$': '', ',': '',\"€\":\"\"}, regex=True)\n",
    "\n",
    "\n",
    "del df['Unnamed: 0']\n"
   ]
  },
  {
   "cell_type": "code",
   "execution_count": 60,
   "metadata": {},
   "outputs": [
    {
     "output_type": "stream",
     "name": "stdout",
     "text": [
      "0\n"
     ]
    }
   ],
   "source": [
    "# area :\n",
    "# making sure we have only numeric values\n",
    "# null values are replaced by -1\n",
    "# making sure there are no numbers after commas\n",
    "\n",
    "\n",
    "\n",
    "df['area'] = df['area'].astype(str)\n",
    "# removing m² and white spaces\n",
    "df['area'] = df['area'].replace({'m': '', ' ': '',\"²\":\"\"}, regex=True)\n",
    "# changing all row with Notspecified to NaN\n",
    "df.loc[df.area == \"Notspecified\"] = np.nan\n",
    "df.loc[df.area == \"nan\"] = np.nan\n",
    "# remove numbers after the comma\n",
    "df['area'] = df['area'].str.replace('.0','')\n",
    "# deal with empty strings\n",
    "df.loc[df['area'] == '', 'area'] = '-1'\n",
    "# replace all null values with -1\n",
    "df.area.fillna('-1', inplace=True)\n",
    "# deal with 0 as an int\n",
    "df.loc[df['area'] == 0, 'area'] = '-1'\n",
    "# deal with 0 as a string\n",
    "df.loc[df['area'] == '0', 'area'] = '-1'\n",
    "# tranform everyting in numeric value\n",
    "df[\"area\"] = pd.to_numeric(df[\"area\"])\n",
    "print(df.area.isnull().sum())\n",
    "\n",
    "\n",
    "df['property_subtype'] = df['property_subtype'].astype(str)\n",
    "df['property_subtype'] = df['property_subtype'].apply(lambda x : x.upper())\n",
    "\n",
    "def float_price(price):\n",
    "    if None == price:\n",
    "        return -1\n",
    "    if type(price) == str:\n",
    "\n",
    "        match  = re.match('[0-9.,]+', price)\n",
    "        if match :\n",
    "            matchPrice = re.search('[0-9.,]+', price).group(0)\n",
    "            matchPrice = matchPrice.replace(',','.')\n",
    "            return float(matchPrice)\n",
    "        else :\n",
    "            return -1\n",
    "    else :\n",
    "        return float(price)\n",
    "\n",
    "df.price = df.price.apply(lambda x : float_price(x))\n",
    "df.price = df.price.fillna(-1)\n",
    "\n",
    "\n",
    "#we need to delete the duplicates. We have in hyperlink column the immoweb id's and the urls. \n",
    "#We cut the missing id's from the urls with regex.\n",
    "\n",
    "# the fuction of getting id's\n",
    "def find_id(x):\n",
    "    if type(x) is str and \"immoweb\" in x:\n",
    "        for n in re.findall(\"([0-9]+)\",x):\n",
    "            if len(n) == 7:\n",
    "\n",
    "                return int (n)\n",
    "    else: \n",
    "        return x\n",
    "\n",
    "df.hyperlink = df.hyperlink.apply(find_id)\n",
    "\n",
    "#check the null values\n",
    "df.hyperlink.isnull().sum()\n",
    "\n",
    "#change the type\n",
    "df.hyperlink = pd.to_numeric(df['hyperlink'],errors='coerce')\n",
    "#check the null values after changing the type: no mising value\n",
    "df.hyperlink.isnull().sum()\n",
    "\n",
    "\n",
    "#see the duplicated id's\n",
    "duplicateRowsDF = df[df.duplicated([\"hyperlink\"])]\n",
    "duplicateRowsDF\n",
    "\n",
    "#drop the empty id's\n",
    "df = df[df['hyperlink'].notna()]\n",
    "\n",
    "#drop the duplicated id's\n",
    "df = df.drop_duplicates(subset=['hyperlink'])\n",
    "\n",
    "#the id's are unique\n",
    "df.hyperlink.is_unique\n",
    "\n",
    "#save the file\n",
    "df.to_csv('unique_ids.csv')\n",
    "\n",
    "\n",
    "\n",
    "#number of rooms\n",
    "#the missing parts of rooms_number column fixed as \"-1\" to convert the type\n",
    "df[df.rooms_number==\"\"] = np.NaN\n",
    "df['rooms_number'] = df['rooms_number'].fillna(-1)\n",
    "df.loc[df['rooms_number'] == '', 'rooms_number'] = '-1'\n",
    "df.loc[df['rooms_number'] == 'None', 'rooms_number'] = '-1'\n",
    "\n",
    "df[\"rooms_number\"] = pd.to_numeric(df[\"rooms_number\"])\n",
    "\n",
    "\n"
   ]
  },
  {
   "cell_type": "code",
   "execution_count": 56,
   "metadata": {},
   "outputs": [
    {
     "output_type": "execute_result",
     "data": {
      "text/plain": [
       "array(['MIXED_USE_BUILDING', 'VILLA', 'APARTMENT_BLOCK', 'HOUSE',\n",
       "       'EXCEPTIONAL_PROPERTY', 'MANSION', 'TOWN_HOUSE', 'COUNTRY_COTTAGE',\n",
       "       'MANOR_HOUSE', 'OTHER_PROPERTY', 'FARMHOUSE', 'CASTLE',\n",
       "       'APARTMENT', 'BUNGALOW', 'CHALET', 'PENTHOUSE', 'SERVICE_FLAT',\n",
       "       'LOFT', 'DUPLEX', 'FLAT_STUDIO', 'GROUND_FLOOR', 'TRIPLEX', 'KOT',\n",
       "       'NAN', 'EXCEPTIONAL-PROPERTY', 'APARTMENT-BLOCK', 'TOWN-HOUSE',\n",
       "       'GROUND-FLOOR', 'FLAT-STUDIO', 'MIXED-USE-BUILDING',\n",
       "       'SERVICE-FLAT', 'COUNTRY-COTTAGE', 'MANOR-HOUSE', 'OTHER-PROPERTY'],\n",
       "      dtype=object)"
      ]
     },
     "metadata": {},
     "execution_count": 56
    }
   ],
   "source": [
    "df.property_subtype.unique()"
   ]
  },
  {
   "cell_type": "code",
   "execution_count": null,
   "metadata": {},
   "outputs": [],
   "source": []
  }
 ]
}