{
 "cells": [
  {
   "cell_type": "code",
   "execution_count": null,
   "metadata": {},
   "outputs": [],
   "source": [
    "import pandas as pd\n",
    "import numpy as np\n",
    "import matplotlib.pyplot as plt\n",
    "from collections import Counter\n",
    "%matplotlib inline\n",
    "import seaborn as sns"
   ]
  },
  {
   "cell_type": "code",
   "execution_count": null,
   "metadata": {},
   "outputs": [],
   "source": [
    "df = pd.read_csv(\"immo_data_set.csv\")"
   ]
  },
  {
   "cell_type": "code",
   "execution_count": null,
   "metadata": {},
   "outputs": [],
   "source": [
    "df"
   ]
  },
  {
   "cell_type": "code",
   "execution_count": null,
   "metadata": {},
   "outputs": [],
   "source": [
    "df.info()"
   ]
  },
  {
   "cell_type": "code",
   "execution_count": null,
   "metadata": {},
   "outputs": [],
   "source": [
    "#the 5 most expensive properties by average prices for each postcode\n",
    "df_gb_post_mean = df.groupby(by = \"postcode\").mean().sort_values(by='price',ascending=False)[:5]\n",
    "df_gb_post_mean.plot(y= \"price\" , kind = 'bar')\n",
    "plt.title (\"5 most expensive postcodes\")\n",
    "plt.show()"
   ]
  },
  {
   "cell_type": "code",
   "execution_count": null,
   "metadata": {},
   "outputs": [],
   "source": [
    "#the 5 least expensive properties by average prices for each postcode\n",
    "df_gb_post_mean = df.groupby(by = \"postcode\").mean().sort_values(by='price',ascending=True)[:5]\n",
    "df_gb_post_mean.plot(y= \"price\" , kind = 'bar')\n",
    "plt.title (\"5 least expensive postcodes\")\n",
    "plt.show()"
   ]
  },
  {
   "cell_type": "code",
   "execution_count": null,
   "metadata": {},
   "outputs": [],
   "source": [
    "# to find out the prices by provinces, we used groupby function\n",
    "df_gb_province_mean = df.groupby(by = \"Province\").mean().sort_values(by='price',ascending=False)\n",
    "df_gb_province_mean"
   ]
  },
  {
   "cell_type": "code",
   "execution_count": null,
   "metadata": {},
   "outputs": [],
   "source": [
    "df_gb_province_mean.plot(y= \"price\" , kind = 'bar')\n",
    "plt.title(\"The Average Price by Province\")\n",
    "plt.show()"
   ]
  },
  {
   "cell_type": "code",
   "execution_count": null,
   "metadata": {},
   "outputs": [],
   "source": [
    "#to see the prices according to property type we grouped the data frame by privinces and property types\n",
    "df.groupby([\"Province\", \"property_subtype\"]).mean().sort_values(by='price',ascending=False)"
   ]
  },
  {
   "cell_type": "code",
   "execution_count": null,
   "metadata": {},
   "outputs": [],
   "source": []
  },
  {
   "cell_type": "code",
   "execution_count": null,
   "metadata": {},
   "outputs": [],
   "source": []
  },
  {
   "cell_type": "code",
   "execution_count": null,
   "metadata": {},
   "outputs": [],
   "source": [
    "property_t_list = df.groupby(\"property_subtype\").count().index.to_list()"
   ]
  },
  {
   "cell_type": "code",
   "execution_count": null,
   "metadata": {},
   "outputs": [],
   "source": [
    "# this function is generating graphs according to provinces\n",
    "def type_to_bar (type_prop):\n",
    "    df_type = df.loc[df[\"property_subtype\"] == type_prop].groupby(\"Province\").mean().sort_values(by='price',ascending=False)\n",
    "    df_type.plot(y= \"price\" , kind = 'bar')\n",
    "    plt.title(type_prop)\n",
    "\n",
    "# use the function for each property types\n",
    "for n in property_t_list:\n",
    "    type_to_bar(n)   "
   ]
  },
  {
   "cell_type": "code",
   "execution_count": null,
   "metadata": {},
   "outputs": [],
   "source": [
    "type_to_bar(\"APARTMENT\")\n",
    "\n"
   ]
  },
  {
   "cell_type": "code",
   "execution_count": null,
   "metadata": {},
   "outputs": [],
   "source": [
    "#This graph shows the count distribution of selling properties for each provinces.\n",
    "df_province_count = df.groupby(\"Province\").count()\n",
    "plot = df_province_count.plot.pie(y = \"hyperlink\", figsize=(5, 5), subplots=False, autopct='%1.1f%%',\n",
    "                                  legend = False, fontsize=10)\n",
    "plt.title(\"The Distribution of Sellig Properties by Provinces\")"
   ]
  },
  {
   "cell_type": "code",
   "execution_count": null,
   "metadata": {},
   "outputs": [],
   "source": [
    "df_province_count = df.groupby(\"Region\").count()\n",
    "plot = df_province_count.plot.pie(y = \"hyperlink\", figsize=(5, 5), subplots=False, autopct='%1.1f%%',\n",
    "                                  legend = False, fontsize=10)\n",
    "plt.title(\"The Distribution of Sellig Properties by Region\")"
   ]
  },
  {
   "cell_type": "code",
   "execution_count": null,
   "metadata": {},
   "outputs": [],
   "source": [
    "# the avrage price of houses and apartments by province\n",
    "sns.set_style('whitegrid')\n",
    "df_a_h = df[df[\"property_subtype\"].isin([\"APARTMENT\", \"HOUSE\"])]\n",
    "plt.figure(figsize=(12,8))\n",
    "sns.barplot(x='Province', y= \"price\",hue='property_subtype',data=df_a_h)\n",
    "plt.xticks(rotation=90)\n",
    "plt.title (\"Average price of selling houses and apartments by province\")"
   ]
  },
  {
   "cell_type": "code",
   "execution_count": null,
   "metadata": {},
   "outputs": [],
   "source": [
    "#total number of selling houses and apartments by province\n",
    "plt.figure(figsize=(12,8))\n",
    "sns.countplot(x='Province',hue='property_subtype',data=df_a_h)\n",
    "plt.xticks(rotation=90)\n",
    "plt.title (\"Number of selling houses and apartments by province\")"
   ]
  },
  {
   "cell_type": "code",
   "execution_count": null,
   "metadata": {},
   "outputs": [],
   "source": [
    "# the avrage price of houses and apartments by region\n",
    "\n",
    "plt.figure(figsize=(12,8))\n",
    "sns.barplot(x='Region', y= \"price\",hue='property_subtype',data=df_a_h)\n",
    "plt.xticks(rotation=90)\n",
    "plt.title (\"Average price of selling houses and apartments by region\")"
   ]
  },
  {
   "cell_type": "code",
   "execution_count": null,
   "metadata": {},
   "outputs": [],
   "source": [
    "#total number of selling houses and apartments by region\n",
    "\n",
    "plt.figure(figsize=(12,8))\n",
    "sns.countplot(x='Region',hue='property_subtype',data=df_a_h)\n",
    "plt.xticks(rotation=90)\n",
    "plt.title (\"Number of selling houses and apartments by region\")"
   ]
  },
  {
   "cell_type": "code",
   "execution_count": null,
   "metadata": {},
   "outputs": [],
   "source": [
    "pd.set_option('display.float_format', '{:.2f}'.format)\n",
    "df = df[df.area > 20]\n",
    "ff_house = df[df.house_is == 1]\n",
    "ff_app =df[df.house_is == 0]\n",
    "ff_house['price per square meter'] = ff.price / ff.area\n",
    "ff_app['price per square meter'] = ff.price / ff.area\n",
    "province_house = ff_house.groupby(['Province']).mean().sort_values(by='price per square meter',ascending=False)['price per square meter']\n",
    "province_app = ff_app.groupby(['Province']).mean().sort_values(by='price per square meter',ascending=False)['price per square meter']\n",
    "region_house = ff_house.groupby(['Region']).mean().sort_values(by='price per square meter',ascending=False)['price per square meter']\n",
    "region_app = ff_app.groupby(['Region']).mean().sort_values(by='price per square meter',ascending=False)['price per square meter']"
   ]
  },
  {
   "cell_type": "code",
   "execution_count": null,
   "metadata": {},
   "outputs": [],
   "source": []
  }
 ],
 "metadata": {
  "kernelspec": {
   "display_name": "Python 3",
   "language": "python",
   "name": "python3"
  },
  "language_info": {
   "codemirror_mode": {
    "name": "ipython",
    "version": 3
   },
   "file_extension": ".py",
   "mimetype": "text/x-python",
   "name": "python",
   "nbconvert_exporter": "python",
   "pygments_lexer": "ipython3",
   "version": "3.8.3"
  }
 },
 "nbformat": 4,
 "nbformat_minor": 4
}