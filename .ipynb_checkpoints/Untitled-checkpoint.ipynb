{
 "cells": [
  {
   "cell_type": "code",
   "execution_count": 1,
   "metadata": {},
   "outputs": [],
   "source": [
    "import pandas as pd\n",
    "import re"
   ]
  },
  {
   "cell_type": "code",
   "execution_count": null,
   "metadata": {},
   "outputs": [],
   "source": []
  },
  {
   "cell_type": "code",
   "execution_count": null,
   "metadata": {},
   "outputs": [],
   "source": []
  },
  {
   "cell_type": "code",
   "execution_count": null,
   "metadata": {},
   "outputs": [],
   "source": []
  },
  {
   "cell_type": "code",
   "execution_count": 2,
   "metadata": {},
   "outputs": [
    {
     "ename": "NameError",
     "evalue": "name 'df' is not defined",
     "output_type": "error",
     "traceback": [
      "\u001b[0;31m---------------------------------------------------------------------------\u001b[0m",
      "\u001b[0;31mNameError\u001b[0m                                 Traceback (most recent call last)",
      "\u001b[0;32m<ipython-input-2-e76887c81acb>\u001b[0m in \u001b[0;36m<module>\u001b[0;34m\u001b[0m\n\u001b[0;32m----> 1\u001b[0;31m \u001b[0mdf\u001b[0m\u001b[0;34m[\u001b[0m\u001b[0;34m'price'\u001b[0m\u001b[0;34m]\u001b[0m \u001b[0;34m=\u001b[0m \u001b[0mdf\u001b[0m\u001b[0;34m[\u001b[0m\u001b[0;34m'price'\u001b[0m\u001b[0;34m]\u001b[0m\u001b[0;34m.\u001b[0m\u001b[0mreplace\u001b[0m\u001b[0;34m(\u001b[0m\u001b[0;34m{\u001b[0m\u001b[0;34m'\\$'\u001b[0m\u001b[0;34m:\u001b[0m \u001b[0;34m''\u001b[0m\u001b[0;34m,\u001b[0m \u001b[0;34m','\u001b[0m\u001b[0;34m:\u001b[0m \u001b[0;34m''\u001b[0m\u001b[0;34m,\u001b[0m\u001b[0;34m\"\\€\"\u001b[0m\u001b[0;34m:\u001b[0m\u001b[0;34m\"\"\u001b[0m\u001b[0;34m}\u001b[0m\u001b[0;34m,\u001b[0m \u001b[0mregex\u001b[0m\u001b[0;34m=\u001b[0m\u001b[0;32mTrue\u001b[0m\u001b[0;34m)\u001b[0m\u001b[0;34m\u001b[0m\u001b[0;34m\u001b[0m\u001b[0m\n\u001b[0m",
      "\u001b[0;31mNameError\u001b[0m: name 'df' is not defined"
     ]
    }
   ],
   "source": [
    "df['price'] = df['price'].replace({'\\$': '', ',': '',\"\\€\":\"\"}, regex=True)"
   ]
  },
  {
   "cell_type": "code",
   "execution_count": 3,
   "metadata": {},
   "outputs": [
    {
     "ename": "NameError",
     "evalue": "name 'df' is not defined",
     "output_type": "error",
     "traceback": [
      "\u001b[0;31m---------------------------------------------------------------------------\u001b[0m",
      "\u001b[0;31mNameError\u001b[0m                                 Traceback (most recent call last)",
      "\u001b[0;32m<ipython-input-3-71a58437cdc6>\u001b[0m in \u001b[0;36m<module>\u001b[0;34m\u001b[0m\n\u001b[0;32m----> 1\u001b[0;31m \u001b[0mdf\u001b[0m\u001b[0;34m.\u001b[0m\u001b[0mprice\u001b[0m\u001b[0;34m.\u001b[0m\u001b[0misna\u001b[0m\u001b[0;34m(\u001b[0m\u001b[0;34m)\u001b[0m\u001b[0;34m.\u001b[0m\u001b[0msum\u001b[0m\u001b[0;34m(\u001b[0m\u001b[0;34m)\u001b[0m\u001b[0;34m\u001b[0m\u001b[0;34m\u001b[0m\u001b[0m\n\u001b[0m",
      "\u001b[0;31mNameError\u001b[0m: name 'df' is not defined"
     ]
    }
   ],
   "source": [
    "df.price.isna().sum()"
   ]
  },
  {
   "cell_type": "code",
   "execution_count": 7,
   "metadata": {},
   "outputs": [
    {
     "name": "stderr",
     "output_type": "stream",
     "text": [
      "/Users/mselmaesen/opt/anaconda3/lib/python3.8/site-packages/IPython/core/interactiveshell.py:3071: DtypeWarning: Columns (11,13,14,19,20,21) have mixed types.Specify dtype option on import or set low_memory=False.\n",
      "  has_raised = await self.run_ast_nodes(code_ast.body, cell_name,\n"
     ]
    },
    {
     "data": {
      "text/html": [
       "<div>\n",
       "<style scoped>\n",
       "    .dataframe tbody tr th:only-of-type {\n",
       "        vertical-align: middle;\n",
       "    }\n",
       "\n",
       "    .dataframe tbody tr th {\n",
       "        vertical-align: top;\n",
       "    }\n",
       "\n",
       "    .dataframe thead th {\n",
       "        text-align: right;\n",
       "    }\n",
       "</style>\n",
       "<table border=\"1\" class=\"dataframe\">\n",
       "  <thead>\n",
       "    <tr style=\"text-align: right;\">\n",
       "      <th></th>\n",
       "      <th>Unnamed: 0</th>\n",
       "      <th>Unnamed: 0.1</th>\n",
       "      <th>source</th>\n",
       "      <th>hyperlink</th>\n",
       "      <th>locality</th>\n",
       "      <th>postcode</th>\n",
       "      <th>house_is</th>\n",
       "      <th>property_subtype</th>\n",
       "      <th>price</th>\n",
       "      <th>sale</th>\n",
       "      <th>...</th>\n",
       "      <th>open_fire</th>\n",
       "      <th>terrace</th>\n",
       "      <th>terrace_area</th>\n",
       "      <th>garden</th>\n",
       "      <th>garden_area</th>\n",
       "      <th>land_surface</th>\n",
       "      <th>land_plot_surface</th>\n",
       "      <th>facades_number</th>\n",
       "      <th>swimming_pool_has</th>\n",
       "      <th>building_state</th>\n",
       "    </tr>\n",
       "  </thead>\n",
       "  <tbody>\n",
       "    <tr>\n",
       "      <th>0</th>\n",
       "      <td>0</td>\n",
       "      <td>0</td>\n",
       "      <td>6</td>\n",
       "      <td>8901695</td>\n",
       "      <td>4180</td>\n",
       "      <td>4180.0</td>\n",
       "      <td>True</td>\n",
       "      <td>MIXED_USE_BUILDING</td>\n",
       "      <td>295000</td>\n",
       "      <td>NaN</td>\n",
       "      <td>...</td>\n",
       "      <td>False</td>\n",
       "      <td>True</td>\n",
       "      <td>36</td>\n",
       "      <td>True</td>\n",
       "      <td>1000</td>\n",
       "      <td>1403</td>\n",
       "      <td>1403</td>\n",
       "      <td>0</td>\n",
       "      <td>False</td>\n",
       "      <td>GOOD</td>\n",
       "    </tr>\n",
       "    <tr>\n",
       "      <th>1</th>\n",
       "      <td>1</td>\n",
       "      <td>1</td>\n",
       "      <td>6</td>\n",
       "      <td>8747010</td>\n",
       "      <td>8730</td>\n",
       "      <td>8730.0</td>\n",
       "      <td>True</td>\n",
       "      <td>VILLA</td>\n",
       "      <td>675000</td>\n",
       "      <td>NaN</td>\n",
       "      <td>...</td>\n",
       "      <td>False</td>\n",
       "      <td>False</td>\n",
       "      <td>0</td>\n",
       "      <td>True</td>\n",
       "      <td>977</td>\n",
       "      <td>1526</td>\n",
       "      <td>1526</td>\n",
       "      <td>0</td>\n",
       "      <td>False</td>\n",
       "      <td>AS_NEW</td>\n",
       "    </tr>\n",
       "    <tr>\n",
       "      <th>2</th>\n",
       "      <td>2</td>\n",
       "      <td>2</td>\n",
       "      <td>6</td>\n",
       "      <td>8775843</td>\n",
       "      <td>4020</td>\n",
       "      <td>4020.0</td>\n",
       "      <td>True</td>\n",
       "      <td>APARTMENT_BLOCK</td>\n",
       "      <td>250000</td>\n",
       "      <td>NaN</td>\n",
       "      <td>...</td>\n",
       "      <td>False</td>\n",
       "      <td>False</td>\n",
       "      <td>0</td>\n",
       "      <td>False</td>\n",
       "      <td>0</td>\n",
       "      <td>760</td>\n",
       "      <td>760</td>\n",
       "      <td>0</td>\n",
       "      <td>False</td>\n",
       "      <td>TO_RENOVATE</td>\n",
       "    </tr>\n",
       "    <tr>\n",
       "      <th>3</th>\n",
       "      <td>3</td>\n",
       "      <td>3</td>\n",
       "      <td>6</td>\n",
       "      <td>8910441</td>\n",
       "      <td>1200</td>\n",
       "      <td>1200.0</td>\n",
       "      <td>True</td>\n",
       "      <td>HOUSE</td>\n",
       "      <td>545000</td>\n",
       "      <td>NaN</td>\n",
       "      <td>...</td>\n",
       "      <td>False</td>\n",
       "      <td>False</td>\n",
       "      <td>0</td>\n",
       "      <td>False</td>\n",
       "      <td>0</td>\n",
       "      <td>63</td>\n",
       "      <td>63</td>\n",
       "      <td>0</td>\n",
       "      <td>False</td>\n",
       "      <td>JUST_RENOVATED</td>\n",
       "    </tr>\n",
       "    <tr>\n",
       "      <th>4</th>\n",
       "      <td>4</td>\n",
       "      <td>4</td>\n",
       "      <td>6</td>\n",
       "      <td>8758672</td>\n",
       "      <td>1190</td>\n",
       "      <td>1190.0</td>\n",
       "      <td>True</td>\n",
       "      <td>MIXED_USE_BUILDING</td>\n",
       "      <td>500000</td>\n",
       "      <td>NaN</td>\n",
       "      <td>...</td>\n",
       "      <td>False</td>\n",
       "      <td>False</td>\n",
       "      <td>0</td>\n",
       "      <td>True</td>\n",
       "      <td>60</td>\n",
       "      <td>193</td>\n",
       "      <td>193</td>\n",
       "      <td>0</td>\n",
       "      <td>False</td>\n",
       "      <td>AS_NEW</td>\n",
       "    </tr>\n",
       "    <tr>\n",
       "      <th>...</th>\n",
       "      <td>...</td>\n",
       "      <td>...</td>\n",
       "      <td>...</td>\n",
       "      <td>...</td>\n",
       "      <td>...</td>\n",
       "      <td>...</td>\n",
       "      <td>...</td>\n",
       "      <td>...</td>\n",
       "      <td>...</td>\n",
       "      <td>...</td>\n",
       "      <td>...</td>\n",
       "      <td>...</td>\n",
       "      <td>...</td>\n",
       "      <td>...</td>\n",
       "      <td>...</td>\n",
       "      <td>...</td>\n",
       "      <td>...</td>\n",
       "      <td>...</td>\n",
       "      <td>...</td>\n",
       "      <td>...</td>\n",
       "      <td>...</td>\n",
       "    </tr>\n",
       "    <tr>\n",
       "      <th>87475</th>\n",
       "      <td>87475</td>\n",
       "      <td>87475</td>\n",
       "      <td>3</td>\n",
       "      <td>8790149</td>\n",
       "      <td>NaN</td>\n",
       "      <td>8400.0</td>\n",
       "      <td>False</td>\n",
       "      <td>Apartment</td>\n",
       "      <td>169000</td>\n",
       "      <td>for sale</td>\n",
       "      <td>...</td>\n",
       "      <td>0</td>\n",
       "      <td>NaN</td>\n",
       "      <td>4</td>\n",
       "      <td>NaN</td>\n",
       "      <td>0</td>\n",
       "      <td>NaN</td>\n",
       "      <td>NaN</td>\n",
       "      <td>0</td>\n",
       "      <td>0</td>\n",
       "      <td>0</td>\n",
       "    </tr>\n",
       "    <tr>\n",
       "      <th>87476</th>\n",
       "      <td>87476</td>\n",
       "      <td>87476</td>\n",
       "      <td>3</td>\n",
       "      <td>8913091</td>\n",
       "      <td>NaN</td>\n",
       "      <td>1800.0</td>\n",
       "      <td>False</td>\n",
       "      <td>Apartment</td>\n",
       "      <td>390000</td>\n",
       "      <td>for sale</td>\n",
       "      <td>...</td>\n",
       "      <td>0</td>\n",
       "      <td>NaN</td>\n",
       "      <td>0</td>\n",
       "      <td>NaN</td>\n",
       "      <td>0</td>\n",
       "      <td>NaN</td>\n",
       "      <td>NaN</td>\n",
       "      <td>0</td>\n",
       "      <td>0</td>\n",
       "      <td>0</td>\n",
       "    </tr>\n",
       "    <tr>\n",
       "      <th>87477</th>\n",
       "      <td>87477</td>\n",
       "      <td>87477</td>\n",
       "      <td>3</td>\n",
       "      <td>8913078</td>\n",
       "      <td>NaN</td>\n",
       "      <td>7500.0</td>\n",
       "      <td>False</td>\n",
       "      <td>Apartment</td>\n",
       "      <td>150000</td>\n",
       "      <td>for sale</td>\n",
       "      <td>...</td>\n",
       "      <td>0</td>\n",
       "      <td>NaN</td>\n",
       "      <td>0</td>\n",
       "      <td>NaN</td>\n",
       "      <td>0</td>\n",
       "      <td>NaN</td>\n",
       "      <td>NaN</td>\n",
       "      <td>0</td>\n",
       "      <td>0</td>\n",
       "      <td>Good</td>\n",
       "    </tr>\n",
       "    <tr>\n",
       "      <th>87478</th>\n",
       "      <td>87478</td>\n",
       "      <td>87478</td>\n",
       "      <td>3</td>\n",
       "      <td>8863524</td>\n",
       "      <td>NaN</td>\n",
       "      <td>1150.0</td>\n",
       "      <td>False</td>\n",
       "      <td>Apartment</td>\n",
       "      <td>250000</td>\n",
       "      <td>for sale</td>\n",
       "      <td>...</td>\n",
       "      <td>0</td>\n",
       "      <td>NaN</td>\n",
       "      <td>0</td>\n",
       "      <td>NaN</td>\n",
       "      <td>0</td>\n",
       "      <td>NaN</td>\n",
       "      <td>NaN</td>\n",
       "      <td>0</td>\n",
       "      <td>0</td>\n",
       "      <td>Good</td>\n",
       "    </tr>\n",
       "    <tr>\n",
       "      <th>87479</th>\n",
       "      <td>87479</td>\n",
       "      <td>87479</td>\n",
       "      <td>3</td>\n",
       "      <td>8913056</td>\n",
       "      <td>NaN</td>\n",
       "      <td>9230.0</td>\n",
       "      <td>False</td>\n",
       "      <td>Apartment</td>\n",
       "      <td>142000</td>\n",
       "      <td>for sale</td>\n",
       "      <td>...</td>\n",
       "      <td>0</td>\n",
       "      <td>NaN</td>\n",
       "      <td>0</td>\n",
       "      <td>NaN</td>\n",
       "      <td>38</td>\n",
       "      <td>NaN</td>\n",
       "      <td>NaN</td>\n",
       "      <td>2</td>\n",
       "      <td>0</td>\n",
       "      <td>Good</td>\n",
       "    </tr>\n",
       "  </tbody>\n",
       "</table>\n",
       "<p>87480 rows × 24 columns</p>\n",
       "</div>"
      ],
      "text/plain": [
       "       Unnamed: 0  Unnamed: 0.1  source hyperlink locality  postcode  \\\n",
       "0               0             0       6   8901695     4180    4180.0   \n",
       "1               1             1       6   8747010     8730    8730.0   \n",
       "2               2             2       6   8775843     4020    4020.0   \n",
       "3               3             3       6   8910441     1200    1200.0   \n",
       "4               4             4       6   8758672     1190    1190.0   \n",
       "...           ...           ...     ...       ...      ...       ...   \n",
       "87475       87475         87475       3   8790149      NaN    8400.0   \n",
       "87476       87476         87476       3   8913091      NaN    1800.0   \n",
       "87477       87477         87477       3   8913078      NaN    7500.0   \n",
       "87478       87478         87478       3   8863524      NaN    1150.0   \n",
       "87479       87479         87479       3   8913056      NaN    9230.0   \n",
       "\n",
       "       house_is    property_subtype   price      sale  ... open_fire terrace  \\\n",
       "0          True  MIXED_USE_BUILDING  295000       NaN  ...     False    True   \n",
       "1          True               VILLA  675000       NaN  ...     False   False   \n",
       "2          True     APARTMENT_BLOCK  250000       NaN  ...     False   False   \n",
       "3          True               HOUSE  545000       NaN  ...     False   False   \n",
       "4          True  MIXED_USE_BUILDING  500000       NaN  ...     False   False   \n",
       "...         ...                 ...     ...       ...  ...       ...     ...   \n",
       "87475     False           Apartment  169000  for sale  ...         0     NaN   \n",
       "87476     False           Apartment  390000  for sale  ...         0     NaN   \n",
       "87477     False           Apartment  150000  for sale  ...         0     NaN   \n",
       "87478     False           Apartment  250000  for sale  ...         0     NaN   \n",
       "87479     False           Apartment  142000  for sale  ...         0     NaN   \n",
       "\n",
       "      terrace_area garden garden_area land_surface land_plot_surface  \\\n",
       "0               36   True        1000         1403              1403   \n",
       "1                0   True         977         1526              1526   \n",
       "2                0  False           0          760               760   \n",
       "3                0  False           0           63                63   \n",
       "4                0   True          60          193               193   \n",
       "...            ...    ...         ...          ...               ...   \n",
       "87475            4    NaN           0          NaN               NaN   \n",
       "87476            0    NaN           0          NaN               NaN   \n",
       "87477            0    NaN           0          NaN               NaN   \n",
       "87478            0    NaN           0          NaN               NaN   \n",
       "87479            0    NaN          38          NaN               NaN   \n",
       "\n",
       "      facades_number swimming_pool_has building_state   \n",
       "0                  0             False            GOOD  \n",
       "1                  0             False          AS_NEW  \n",
       "2                  0             False     TO_RENOVATE  \n",
       "3                  0             False  JUST_RENOVATED  \n",
       "4                  0             False          AS_NEW  \n",
       "...              ...               ...             ...  \n",
       "87475              0                 0               0  \n",
       "87476              0                 0               0  \n",
       "87477              0                 0            Good  \n",
       "87478              0                 0            Good  \n",
       "87479              2                 0            Good  \n",
       "\n",
       "[87480 rows x 24 columns]"
      ]
     },
     "execution_count": 7,
     "metadata": {},
     "output_type": "execute_result"
    }
   ],
   "source": [
    "\n",
    "df = pd.read_csv('final.csv')\n",
    "df"
   ]
  },
  {
   "cell_type": "code",
   "execution_count": 8,
   "metadata": {},
   "outputs": [],
   "source": [
    "#df['price'] = pd.to_numeric(df['price'],errors='coerce') # data loss\n"
   ]
  },
  {
   "cell_type": "code",
   "execution_count": 9,
   "metadata": {},
   "outputs": [
    {
     "name": "stdout",
     "output_type": "stream",
     "text": [
      "<class 'pandas.core.frame.DataFrame'>\n",
      "RangeIndex: 87480 entries, 0 to 87479\n",
      "Data columns (total 24 columns):\n",
      " #   Column             Non-Null Count  Dtype  \n",
      "---  ------             --------------  -----  \n",
      " 0   Unnamed: 0         87480 non-null  int64  \n",
      " 1   Unnamed: 0.1       87480 non-null  int64  \n",
      " 2   source             87480 non-null  int64  \n",
      " 3   hyperlink          71511 non-null  object \n",
      " 4   locality           75874 non-null  object \n",
      " 5   postcode           80068 non-null  float64\n",
      " 6   house_is           87480 non-null  bool   \n",
      " 7   property_subtype   87480 non-null  object \n",
      " 8   price              85984 non-null  object \n",
      " 9   sale               37414 non-null  object \n",
      " 10  rooms_number       86106 non-null  object \n",
      " 11  area               83953 non-null  object \n",
      " 12  kitchen_has        81367 non-null  object \n",
      " 13  furnished          76977 non-null  object \n",
      " 14  open_fire          70030 non-null  object \n",
      " 15  terrace            61138 non-null  object \n",
      " 16  terrace_area       76187 non-null  object \n",
      " 17  garden             79000 non-null  object \n",
      " 18  garden_area        70365 non-null  object \n",
      " 19  land_surface       64006 non-null  object \n",
      " 20  land_plot_surface  63206 non-null  object \n",
      " 21  facades_number     77999 non-null  object \n",
      " 22  swimming_pool_has  66806 non-null  object \n",
      " 23  building_state     56301 non-null  object \n",
      "dtypes: bool(1), float64(1), int64(3), object(19)\n",
      "memory usage: 15.4+ MB\n"
     ]
    }
   ],
   "source": [
    "df.info()"
   ]
  },
  {
   "cell_type": "code",
   "execution_count": 10,
   "metadata": {},
   "outputs": [
    {
     "data": {
      "text/plain": [
       "1496"
      ]
     },
     "execution_count": 10,
     "metadata": {},
     "output_type": "execute_result"
    }
   ],
   "source": [
    "df.price.isna().sum()"
   ]
  },
  {
   "cell_type": "code",
   "execution_count": 11,
   "metadata": {},
   "outputs": [
    {
     "data": {
      "text/plain": [
       "87480"
      ]
     },
     "execution_count": 11,
     "metadata": {},
     "output_type": "execute_result"
    }
   ],
   "source": [
    "df.shape[0]"
   ]
  },
  {
   "cell_type": "code",
   "execution_count": 70,
   "metadata": {},
   "outputs": [
    {
     "name": "stdout",
     "output_type": "stream",
     "text": [
      "8944111\n",
      "<class 'str'>\n",
      "https://www.immoweb.be/en/classified/apartment/for-sale/antwerp/2018/8944111\n",
      "8948998\n"
     ]
    }
   ],
   "source": [
    "\n",
    "def find_id(x):\n",
    "    if type(x) is str and \"immoweb\" in x:\n",
    "        for n in re.findall(\"([0-9]+)\",x):\n",
    "            if len(n) == 7:\n",
    "               \n",
    "                return int (n)\n",
    "    else: \n",
    "        return x\n",
    "print (find_id(df.iloc[(30424,3)]))\n",
    "print (type(df.iloc[(30424,3)]))\n",
    "print (df.iloc[30424, 3])\n",
    "\n",
    "print (find_id(df.iloc[(77771,3)]))\n"
   ]
  },
  {
   "cell_type": "code",
   "execution_count": null,
   "metadata": {},
   "outputs": [],
   "source": []
  },
  {
   "cell_type": "code",
   "execution_count": 71,
   "metadata": {},
   "outputs": [
    {
     "data": {
      "text/plain": [
       "Index(['Unnamed: 0', 'Unnamed: 0.1', 'source', 'hyperlink', 'locality',\n",
       "       'postcode', 'house_is', 'property_subtype', 'price', 'sale',\n",
       "       'rooms_number', 'area', 'kitchen_has', 'furnished ', 'open_fire',\n",
       "       'terrace', 'terrace_area', 'garden', 'garden_area', 'land_surface',\n",
       "       'land_plot_surface', 'facades_number', 'swimming_pool_has',\n",
       "       'building_state '],\n",
       "      dtype='object')"
      ]
     },
     "execution_count": 71,
     "metadata": {},
     "output_type": "execute_result"
    }
   ],
   "source": [
    "df.columns"
   ]
  },
  {
   "cell_type": "code",
   "execution_count": 72,
   "metadata": {},
   "outputs": [
    {
     "data": {
      "text/plain": [
       "15969"
      ]
     },
     "execution_count": 72,
     "metadata": {},
     "output_type": "execute_result"
    }
   ],
   "source": [
    " \n",
    "df[\"hyperlink\"].isna().sum()"
   ]
  },
  {
   "cell_type": "code",
   "execution_count": 73,
   "metadata": {},
   "outputs": [],
   "source": [
    "df.hyperlink = df.hyperlink.apply(find_id)"
   ]
  },
  {
   "cell_type": "code",
   "execution_count": 74,
   "metadata": {},
   "outputs": [
    {
     "name": "stdout",
     "output_type": "stream",
     "text": [
      "8944111\n"
     ]
    }
   ],
   "source": [
    "print (df.iloc[30424, 3])\n"
   ]
  },
  {
   "cell_type": "code",
   "execution_count": 75,
   "metadata": {},
   "outputs": [
    {
     "name": "stdout",
     "output_type": "stream",
     "text": [
      "<class 'pandas.core.frame.DataFrame'>\n",
      "RangeIndex: 87480 entries, 0 to 87479\n",
      "Data columns (total 24 columns):\n",
      " #   Column             Non-Null Count  Dtype  \n",
      "---  ------             --------------  -----  \n",
      " 0   Unnamed: 0         87480 non-null  int64  \n",
      " 1   Unnamed: 0.1       87480 non-null  int64  \n",
      " 2   source             87480 non-null  int64  \n",
      " 3   hyperlink          71511 non-null  object \n",
      " 4   locality           75874 non-null  object \n",
      " 5   postcode           80068 non-null  float64\n",
      " 6   house_is           87480 non-null  bool   \n",
      " 7   property_subtype   87480 non-null  object \n",
      " 8   price              85984 non-null  object \n",
      " 9   sale               37414 non-null  object \n",
      " 10  rooms_number       86106 non-null  object \n",
      " 11  area               83953 non-null  object \n",
      " 12  kitchen_has        81367 non-null  object \n",
      " 13  furnished          76977 non-null  object \n",
      " 14  open_fire          70030 non-null  object \n",
      " 15  terrace            61138 non-null  object \n",
      " 16  terrace_area       76187 non-null  object \n",
      " 17  garden             79000 non-null  object \n",
      " 18  garden_area        70365 non-null  object \n",
      " 19  land_surface       64006 non-null  object \n",
      " 20  land_plot_surface  63206 non-null  object \n",
      " 21  facades_number     77999 non-null  object \n",
      " 22  swimming_pool_has  66806 non-null  object \n",
      " 23  building_state     56301 non-null  object \n",
      "dtypes: bool(1), float64(1), int64(3), object(19)\n",
      "memory usage: 15.4+ MB\n"
     ]
    }
   ],
   "source": [
    "df.info()"
   ]
  },
  {
   "cell_type": "code",
   "execution_count": 80,
   "metadata": {},
   "outputs": [
    {
     "data": {
      "text/plain": [
       "15969"
      ]
     },
     "execution_count": 80,
     "metadata": {},
     "output_type": "execute_result"
    }
   ],
   "source": [
    "df.hyperlink.isna().sum()"
   ]
  },
  {
   "cell_type": "code",
   "execution_count": 81,
   "metadata": {},
   "outputs": [
    {
     "data": {
      "text/plain": [
       "18783"
      ]
     },
     "execution_count": 81,
     "metadata": {},
     "output_type": "execute_result"
    }
   ],
   "source": [
    "pd.to_numeric(df['hyperlink'],errors='coerce').isna().sum()"
   ]
  },
  {
   "cell_type": "code",
   "execution_count": 85,
   "metadata": {},
   "outputs": [
    {
     "data": {
      "text/plain": [
       "7412"
      ]
     },
     "execution_count": 85,
     "metadata": {},
     "output_type": "execute_result"
    }
   ],
   "source": [
    "len(df.source[df.source==2])"
   ]
  },
  {
   "cell_type": "code",
   "execution_count": null,
   "metadata": {},
   "outputs": [],
   "source": []
  }
 ],
 "metadata": {
  "kernelspec": {
   "display_name": "Python 3",
   "language": "python",
   "name": "python3"
  },
  "language_info": {
   "codemirror_mode": {
    "name": "ipython",
    "version": 3
   },
   "file_extension": ".py",
   "mimetype": "text/x-python",
   "name": "python",
   "nbconvert_exporter": "python",
   "pygments_lexer": "ipython3",
   "version": "3.8.3"
  }
 },
 "nbformat": 4,
 "nbformat_minor": 4
}
