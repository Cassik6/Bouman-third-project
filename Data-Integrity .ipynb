{
 "metadata": {
  "language_info": {
   "codemirror_mode": {
    "name": "ipython",
    "version": 3
   },
   "file_extension": ".py",
   "mimetype": "text/x-python",
   "name": "python",
   "nbconvert_exporter": "python",
   "pygments_lexer": "ipython3",
   "version": "3.8.3-final"
  },
  "orig_nbformat": 2,
  "kernelspec": {
   "name": "Python 3.8.3 64-bit ('base': conda)",
   "display_name": "Python 3.8.3 64-bit ('base': conda)",
   "metadata": {
    "interpreter": {
     "hash": "78e8a6d3b7290a011ff787e7b2160da94d41214bbd0f1847b1953745e215e335"
    }
   }
  }
 },
 "nbformat": 4,
 "nbformat_minor": 2,
 "cells": [
  {
   "cell_type": "code",
   "execution_count": 101,
   "metadata": {},
   "outputs": [
    {
     "output_type": "execute_result",
     "data": {
      "text/plain": [
       "            Unnamed: 0  hyperlink  ...  swimming_pool_has  building_state\n",
       "Unnamed: 0        1.00       1.00  ...               0.96            0.56\n",
       "hyperlink         1.00       1.00  ...               0.96            0.56\n",
       "postcode          1.00       1.00  ...               0.96            0.56\n",
       "Province          1.00       1.00  ...               0.96            0.56\n",
       "Region            1.00       1.00  ...               0.96            0.56\n",
       "\n",
       "[5 rows x 22 columns]"
      ],
      "text/html": "<div>\n<style scoped>\n    .dataframe tbody tr th:only-of-type {\n        vertical-align: middle;\n    }\n\n    .dataframe tbody tr th {\n        vertical-align: top;\n    }\n\n    .dataframe thead th {\n        text-align: right;\n    }\n</style>\n<table border=\"1\" class=\"dataframe\">\n  <thead>\n    <tr style=\"text-align: right;\">\n      <th></th>\n      <th>Unnamed: 0</th>\n      <th>hyperlink</th>\n      <th>postcode</th>\n      <th>Province</th>\n      <th>Region</th>\n      <th>house_is</th>\n      <th>property_subtype</th>\n      <th>price</th>\n      <th>rooms_number</th>\n      <th>area</th>\n      <th>kitchen_has</th>\n      <th>furnished</th>\n      <th>open_fire</th>\n      <th>terrace</th>\n      <th>terrace_area</th>\n      <th>garden</th>\n      <th>garden_area</th>\n      <th>land_surface</th>\n      <th>land_plot_surface</th>\n      <th>facades_number</th>\n      <th>swimming_pool_has</th>\n      <th>building_state</th>\n    </tr>\n  </thead>\n  <tbody>\n    <tr>\n      <th>Unnamed: 0</th>\n      <td>1.00</td>\n      <td>1.00</td>\n      <td>1.00</td>\n      <td>1.00</td>\n      <td>1.00</td>\n      <td>1.00</td>\n      <td>1.00</td>\n      <td>1.00</td>\n      <td>1.00</td>\n      <td>0.81</td>\n      <td>0.97</td>\n      <td>0.96</td>\n      <td>0.96</td>\n      <td>0.93</td>\n      <td>0.93</td>\n      <td>0.94</td>\n      <td>0.75</td>\n      <td>0.71</td>\n      <td>0.87</td>\n      <td>0.92</td>\n      <td>0.96</td>\n      <td>0.56</td>\n    </tr>\n    <tr>\n      <th>hyperlink</th>\n      <td>1.00</td>\n      <td>1.00</td>\n      <td>1.00</td>\n      <td>1.00</td>\n      <td>1.00</td>\n      <td>1.00</td>\n      <td>1.00</td>\n      <td>1.00</td>\n      <td>1.00</td>\n      <td>0.81</td>\n      <td>0.97</td>\n      <td>0.96</td>\n      <td>0.96</td>\n      <td>0.93</td>\n      <td>0.93</td>\n      <td>0.94</td>\n      <td>0.75</td>\n      <td>0.71</td>\n      <td>0.87</td>\n      <td>0.92</td>\n      <td>0.96</td>\n      <td>0.56</td>\n    </tr>\n    <tr>\n      <th>postcode</th>\n      <td>1.00</td>\n      <td>1.00</td>\n      <td>1.00</td>\n      <td>1.00</td>\n      <td>1.00</td>\n      <td>1.00</td>\n      <td>1.00</td>\n      <td>1.00</td>\n      <td>1.00</td>\n      <td>0.81</td>\n      <td>0.97</td>\n      <td>0.96</td>\n      <td>0.96</td>\n      <td>0.93</td>\n      <td>0.93</td>\n      <td>0.94</td>\n      <td>0.75</td>\n      <td>0.71</td>\n      <td>0.87</td>\n      <td>0.92</td>\n      <td>0.96</td>\n      <td>0.56</td>\n    </tr>\n    <tr>\n      <th>Province</th>\n      <td>1.00</td>\n      <td>1.00</td>\n      <td>1.00</td>\n      <td>1.00</td>\n      <td>1.00</td>\n      <td>1.00</td>\n      <td>1.00</td>\n      <td>1.00</td>\n      <td>1.00</td>\n      <td>0.81</td>\n      <td>0.97</td>\n      <td>0.96</td>\n      <td>0.96</td>\n      <td>0.93</td>\n      <td>0.93</td>\n      <td>0.94</td>\n      <td>0.75</td>\n      <td>0.71</td>\n      <td>0.87</td>\n      <td>0.92</td>\n      <td>0.96</td>\n      <td>0.56</td>\n    </tr>\n    <tr>\n      <th>Region</th>\n      <td>1.00</td>\n      <td>1.00</td>\n      <td>1.00</td>\n      <td>1.00</td>\n      <td>1.00</td>\n      <td>1.00</td>\n      <td>1.00</td>\n      <td>1.00</td>\n      <td>1.00</td>\n      <td>0.81</td>\n      <td>0.97</td>\n      <td>0.96</td>\n      <td>0.96</td>\n      <td>0.93</td>\n      <td>0.93</td>\n      <td>0.94</td>\n      <td>0.75</td>\n      <td>0.71</td>\n      <td>0.87</td>\n      <td>0.92</td>\n      <td>0.96</td>\n      <td>0.56</td>\n    </tr>\n  </tbody>\n</table>\n</div>"
     },
     "metadata": {},
     "execution_count": 101
    }
   ],
   "source": [
    "# Calculates the integrity of the dataset (% of missing values) \n",
    " \n",
    "import pandas as pd\n",
    " \n",
    "df = pd.read_csv(\"immo_data_set.csv\")\n",
    "\n",
    "kf = pd.DataFrame()\n",
    "for i in df:\n",
    "    if i in ['rooms_number', 'area']:\n",
    "        kf[i] = (df[i].count() - df[df[i] == -1].count())/df.count()\n",
    "    else:\n",
    "        kf[i] = df[i].count()/df.count()\n",
    "    df\n",
    "kf.head()\n",
    "\n"
   ]
  },
  {
   "cell_type": "code",
   "execution_count": null,
   "metadata": {},
   "outputs": [],
   "source": []
  }
 ]
}